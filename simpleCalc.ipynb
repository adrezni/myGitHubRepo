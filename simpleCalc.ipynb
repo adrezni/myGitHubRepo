{
 "cells": [
  {
   "cell_type": "code",
   "execution_count": 6,
   "metadata": {},
   "outputs": [
    {
     "name": "stdout",
     "output_type": "stream",
     "text": [
      "Collecting ipywidgets==7.6.2\n",
      "  Downloading ipywidgets-7.6.2-py2.py3-none-any.whl (121 kB)\n",
      "\u001b[K     |████████████████████████████████| 121 kB 27.5 MB/s eta 0:00:01\n",
      "\u001b[?25hCollecting matplotlib==3.0.0\n",
      "  Downloading matplotlib-3.0.0-cp36-cp36m-manylinux1_x86_64.whl (12.8 MB)\n",
      "\u001b[K     |████████████████████████████████| 12.8 MB 13.4 MB/s eta 0:00:01\n",
      "\u001b[?25hCollecting pandas==0.23.1\n",
      "  Downloading pandas-0.23.1-cp36-cp36m-manylinux1_x86_64.whl (11.8 MB)\n",
      "\u001b[K     |████████████████████████████████| 11.8 MB 33.7 MB/s eta 0:00:01\n",
      "\u001b[?25hCollecting profilehooks==1.11.2\n",
      "  Downloading profilehooks-1.11.2-py2.py3-none-any.whl (11 kB)\n",
      "Collecting scikit-learn==0.22\n",
      "  Downloading scikit_learn-0.22-cp36-cp36m-manylinux1_x86_64.whl (7.0 MB)\n",
      "\u001b[K     |████████████████████████████████| 7.0 MB 81.3 MB/s eta 0:00:01\n",
      "\u001b[?25hCollecting torchvision==0.8.2\n",
      "  Downloading torchvision-0.8.2-cp36-cp36m-manylinux1_x86_64.whl (12.8 MB)\n",
      "\u001b[K     |████████████████████████████████| 12.8 MB 86.4 MB/s eta 0:00:01\n",
      "\u001b[?25hCollecting jupyterlab-widgets>=1.0.0; python_version >= \"3.5\"\n",
      "  Downloading jupyterlab_widgets-1.0.0-py3-none-any.whl (243 kB)\n",
      "\u001b[K     |████████████████████████████████| 243 kB 89.4 MB/s eta 0:00:01\n",
      "\u001b[?25hRequirement already satisfied: nbformat>=4.2.0 in /opt/app-root/lib/python3.6/site-packages (from ipywidgets==7.6.2->-r requirements.txt (line 1)) (5.0.8)\n",
      "Requirement already satisfied: ipykernel>=4.5.1 in /opt/app-root/lib/python3.6/site-packages (from ipywidgets==7.6.2->-r requirements.txt (line 1)) (5.3.4)\n",
      "Collecting widgetsnbextension~=3.5.0\n",
      "  Downloading widgetsnbextension-3.5.1-py2.py3-none-any.whl (2.2 MB)\n",
      "\u001b[K     |████████████████████████████████| 2.2 MB 87.1 MB/s eta 0:00:01\n",
      "\u001b[?25hRequirement already satisfied: ipython>=4.0.0; python_version >= \"3.3\" in /opt/app-root/lib/python3.6/site-packages (from ipywidgets==7.6.2->-r requirements.txt (line 1)) (7.16.1)\n",
      "Requirement already satisfied: traitlets>=4.3.1 in /opt/app-root/lib/python3.6/site-packages (from ipywidgets==7.6.2->-r requirements.txt (line 1)) (4.3.3)\n",
      "Collecting kiwisolver>=1.0.1\n",
      "  Downloading kiwisolver-1.3.1-cp36-cp36m-manylinux1_x86_64.whl (1.1 MB)\n",
      "\u001b[K     |████████████████████████████████| 1.1 MB 85.6 MB/s eta 0:00:01\n",
      "\u001b[?25hCollecting cycler>=0.10\n",
      "  Downloading cycler-0.10.0-py2.py3-none-any.whl (6.5 kB)\n",
      "Requirement already satisfied: pyparsing!=2.0.4,!=2.1.2,!=2.1.6,>=2.0.1 in /opt/app-root/lib/python3.6/site-packages (from matplotlib==3.0.0->-r requirements.txt (line 2)) (2.4.7)\n",
      "Collecting numpy>=1.10.0\n",
      "  Downloading numpy-1.19.5-cp36-cp36m-manylinux2010_x86_64.whl (14.8 MB)\n",
      "\u001b[K     |████████████████████████████████| 14.8 MB 78.1 MB/s eta 0:00:01\n",
      "\u001b[?25hRequirement already satisfied: python-dateutil>=2.1 in /opt/app-root/lib/python3.6/site-packages (from matplotlib==3.0.0->-r requirements.txt (line 2)) (2.8.1)\n",
      "Requirement already satisfied: pytz>=2011k in /opt/app-root/lib/python3.6/site-packages (from pandas==0.23.1->-r requirements.txt (line 3)) (2020.1)\n",
      "Collecting joblib>=0.11\n",
      "  Downloading joblib-1.0.1-py3-none-any.whl (303 kB)\n",
      "\u001b[K     |████████████████████████████████| 303 kB 90.4 MB/s eta 0:00:01\n",
      "\u001b[?25hCollecting scipy>=0.17.0\n",
      "  Downloading scipy-1.5.4-cp36-cp36m-manylinux1_x86_64.whl (25.9 MB)\n",
      "\u001b[K     |████████████████████████████████| 25.9 MB 89.3 MB/s eta 0:00:01\n",
      "\u001b[?25hCollecting torch==1.7.1\n",
      "  Downloading torch-1.7.1-cp36-cp36m-manylinux1_x86_64.whl (776.8 MB)\n",
      "\u001b[K     |████████████                    | 293.8 MB 123.8 MB/s eta 0:00:04"
     ]
    },
    {
     "name": "stderr",
     "output_type": "stream",
     "text": [
      "IOPub data rate exceeded.\n",
      "The notebook server will temporarily stop sending output\n",
      "to the client in order to avoid crashing it.\n",
      "To change this limit, set the config variable\n",
      "`--NotebookApp.iopub_data_rate_limit`.\n",
      "\n",
      "Current values:\n",
      "NotebookApp.iopub_data_rate_limit=1000000.0 (bytes/sec)\n",
      "NotebookApp.rate_limit_window=3.0 (secs)\n",
      "\n"
     ]
    },
    {
     "name": "stdout",
     "output_type": "stream",
     "text": [
      "\u001b[K     |█████████████████████████▋      | 622.7 MB 120.2 MB/s eta 0:00:02"
     ]
    },
    {
     "name": "stderr",
     "output_type": "stream",
     "text": [
      "IOPub data rate exceeded.\n",
      "The notebook server will temporarily stop sending output\n",
      "to the client in order to avoid crashing it.\n",
      "To change this limit, set the config variable\n",
      "`--NotebookApp.iopub_data_rate_limit`.\n",
      "\n",
      "Current values:\n",
      "NotebookApp.iopub_data_rate_limit=1000000.0 (bytes/sec)\n",
      "NotebookApp.rate_limit_window=3.0 (secs)\n",
      "\n"
     ]
    },
    {
     "name": "stdout",
     "output_type": "stream",
     "text": [
      "\u001b[?25hCollecting pillow>=4.1.1\n",
      "  Downloading Pillow-8.1.0-cp36-cp36m-manylinux1_x86_64.whl (2.2 MB)\n",
      "\u001b[K     |████████████████████████████████| 2.2 MB 77.0 MB/s eta 0:00:01\n",
      "\u001b[?25hRequirement already satisfied: ipython-genutils in /opt/app-root/lib/python3.6/site-packages (from nbformat>=4.2.0->ipywidgets==7.6.2->-r requirements.txt (line 1)) (0.2.0)\n",
      "Requirement already satisfied: jupyter-core in /opt/app-root/lib/python3.6/site-packages (from nbformat>=4.2.0->ipywidgets==7.6.2->-r requirements.txt (line 1)) (4.6.3)\n",
      "Requirement already satisfied: jsonschema!=2.5.0,>=2.4 in /opt/app-root/lib/python3.6/site-packages (from nbformat>=4.2.0->ipywidgets==7.6.2->-r requirements.txt (line 1)) (3.2.0)\n",
      "Requirement already satisfied: jupyter-client in /opt/app-root/lib/python3.6/site-packages (from ipykernel>=4.5.1->ipywidgets==7.6.2->-r requirements.txt (line 1)) (6.1.7)\n",
      "Requirement already satisfied: tornado>=4.2 in /opt/app-root/lib/python3.6/site-packages (from ipykernel>=4.5.1->ipywidgets==7.6.2->-r requirements.txt (line 1)) (6.0.4)\n",
      "Requirement already satisfied: notebook>=4.4.1 in /opt/app-root/lib/python3.6/site-packages (from widgetsnbextension~=3.5.0->ipywidgets==7.6.2->-r requirements.txt (line 1)) (6.1.4)\n",
      "Requirement already satisfied: setuptools>=18.5 in /opt/app-root/lib/python3.6/site-packages (from ipython>=4.0.0; python_version >= \"3.3\"->ipywidgets==7.6.2->-r requirements.txt (line 1)) (50.3.2)\n",
      "Requirement already satisfied: decorator in /opt/app-root/lib/python3.6/site-packages (from ipython>=4.0.0; python_version >= \"3.3\"->ipywidgets==7.6.2->-r requirements.txt (line 1)) (4.4.2)\n",
      "Requirement already satisfied: prompt-toolkit!=3.0.0,!=3.0.1,<3.1.0,>=2.0.0 in /opt/app-root/lib/python3.6/site-packages (from ipython>=4.0.0; python_version >= \"3.3\"->ipywidgets==7.6.2->-r requirements.txt (line 1)) (3.0.3)\n",
      "Requirement already satisfied: pickleshare in /opt/app-root/lib/python3.6/site-packages (from ipython>=4.0.0; python_version >= \"3.3\"->ipywidgets==7.6.2->-r requirements.txt (line 1)) (0.7.5)\n",
      "Requirement already satisfied: pygments in /opt/app-root/lib/python3.6/site-packages (from ipython>=4.0.0; python_version >= \"3.3\"->ipywidgets==7.6.2->-r requirements.txt (line 1)) (2.7.2)\n",
      "Requirement already satisfied: pexpect; sys_platform != \"win32\" in /opt/app-root/lib/python3.6/site-packages (from ipython>=4.0.0; python_version >= \"3.3\"->ipywidgets==7.6.2->-r requirements.txt (line 1)) (4.8.0)\n",
      "Requirement already satisfied: backcall in /opt/app-root/lib/python3.6/site-packages (from ipython>=4.0.0; python_version >= \"3.3\"->ipywidgets==7.6.2->-r requirements.txt (line 1)) (0.2.0)\n",
      "Requirement already satisfied: jedi>=0.10 in /opt/app-root/lib/python3.6/site-packages (from ipython>=4.0.0; python_version >= \"3.3\"->ipywidgets==7.6.2->-r requirements.txt (line 1)) (0.17.2)\n",
      "Requirement already satisfied: six in /opt/app-root/lib/python3.6/site-packages (from traitlets>=4.3.1->ipywidgets==7.6.2->-r requirements.txt (line 1)) (1.15.0)\n",
      "Requirement already satisfied: dataclasses; python_version < \"3.7\" in /opt/app-root/lib/python3.6/site-packages (from torch==1.7.1->torchvision==0.8.2->-r requirements.txt (line 6)) (0.7)\n",
      "Requirement already satisfied: typing-extensions in /opt/app-root/lib/python3.6/site-packages (from torch==1.7.1->torchvision==0.8.2->-r requirements.txt (line 6)) (3.7.4.3)\n",
      "Requirement already satisfied: importlib-metadata; python_version < \"3.8\" in /opt/app-root/lib/python3.6/site-packages (from jsonschema!=2.5.0,>=2.4->nbformat>=4.2.0->ipywidgets==7.6.2->-r requirements.txt (line 1)) (2.0.0)\n",
      "Requirement already satisfied: pyrsistent>=0.14.0 in /opt/app-root/lib/python3.6/site-packages (from jsonschema!=2.5.0,>=2.4->nbformat>=4.2.0->ipywidgets==7.6.2->-r requirements.txt (line 1)) (0.17.3)\n",
      "Requirement already satisfied: attrs>=17.4.0 in /opt/app-root/lib/python3.6/site-packages (from jsonschema!=2.5.0,>=2.4->nbformat>=4.2.0->ipywidgets==7.6.2->-r requirements.txt (line 1)) (20.2.0)\n",
      "Requirement already satisfied: pyzmq>=13 in /opt/app-root/lib/python3.6/site-packages (from jupyter-client->ipykernel>=4.5.1->ipywidgets==7.6.2->-r requirements.txt (line 1)) (19.0.2)\n",
      "Requirement already satisfied: Send2Trash in /opt/app-root/lib/python3.6/site-packages (from notebook>=4.4.1->widgetsnbextension~=3.5.0->ipywidgets==7.6.2->-r requirements.txt (line 1)) (1.5.0)\n",
      "Requirement already satisfied: argon2-cffi in /opt/app-root/lib/python3.6/site-packages (from notebook>=4.4.1->widgetsnbextension~=3.5.0->ipywidgets==7.6.2->-r requirements.txt (line 1)) (20.1.0)\n",
      "Requirement already satisfied: nbconvert in /opt/app-root/lib/python3.6/site-packages (from notebook>=4.4.1->widgetsnbextension~=3.5.0->ipywidgets==7.6.2->-r requirements.txt (line 1)) (5.6.1)\n",
      "Requirement already satisfied: prometheus-client in /opt/app-root/lib/python3.6/site-packages (from notebook>=4.4.1->widgetsnbextension~=3.5.0->ipywidgets==7.6.2->-r requirements.txt (line 1)) (0.8.0)\n",
      "Requirement already satisfied: terminado>=0.8.3 in /opt/app-root/lib/python3.6/site-packages (from notebook>=4.4.1->widgetsnbextension~=3.5.0->ipywidgets==7.6.2->-r requirements.txt (line 1)) (0.9.1)\n",
      "Requirement already satisfied: jinja2 in /opt/app-root/lib/python3.6/site-packages (from notebook>=4.4.1->widgetsnbextension~=3.5.0->ipywidgets==7.6.2->-r requirements.txt (line 1)) (2.11.2)\n",
      "Requirement already satisfied: wcwidth in /opt/app-root/lib/python3.6/site-packages (from prompt-toolkit!=3.0.0,!=3.0.1,<3.1.0,>=2.0.0->ipython>=4.0.0; python_version >= \"3.3\"->ipywidgets==7.6.2->-r requirements.txt (line 1)) (0.2.5)\n",
      "Requirement already satisfied: ptyprocess>=0.5 in /opt/app-root/lib/python3.6/site-packages (from pexpect; sys_platform != \"win32\"->ipython>=4.0.0; python_version >= \"3.3\"->ipywidgets==7.6.2->-r requirements.txt (line 1)) (0.6.0)\n",
      "Requirement already satisfied: parso<0.8.0,>=0.7.0 in /opt/app-root/lib/python3.6/site-packages (from jedi>=0.10->ipython>=4.0.0; python_version >= \"3.3\"->ipywidgets==7.6.2->-r requirements.txt (line 1)) (0.7.1)\n",
      "Requirement already satisfied: zipp>=0.5 in /opt/app-root/lib/python3.6/site-packages (from importlib-metadata; python_version < \"3.8\"->jsonschema!=2.5.0,>=2.4->nbformat>=4.2.0->ipywidgets==7.6.2->-r requirements.txt (line 1)) (3.4.0)\n",
      "Requirement already satisfied: cffi>=1.0.0 in /opt/app-root/lib/python3.6/site-packages (from argon2-cffi->notebook>=4.4.1->widgetsnbextension~=3.5.0->ipywidgets==7.6.2->-r requirements.txt (line 1)) (1.14.3)\n",
      "Requirement already satisfied: entrypoints>=0.2.2 in /opt/app-root/lib/python3.6/site-packages (from nbconvert->notebook>=4.4.1->widgetsnbextension~=3.5.0->ipywidgets==7.6.2->-r requirements.txt (line 1)) (0.3)\n",
      "Requirement already satisfied: pandocfilters>=1.4.1 in /opt/app-root/lib/python3.6/site-packages (from nbconvert->notebook>=4.4.1->widgetsnbextension~=3.5.0->ipywidgets==7.6.2->-r requirements.txt (line 1)) (1.4.3)\n",
      "Requirement already satisfied: defusedxml in /opt/app-root/lib/python3.6/site-packages (from nbconvert->notebook>=4.4.1->widgetsnbextension~=3.5.0->ipywidgets==7.6.2->-r requirements.txt (line 1)) (0.6.0)\n",
      "Requirement already satisfied: mistune<2,>=0.8.1 in /opt/app-root/lib/python3.6/site-packages (from nbconvert->notebook>=4.4.1->widgetsnbextension~=3.5.0->ipywidgets==7.6.2->-r requirements.txt (line 1)) (0.8.4)\n",
      "Requirement already satisfied: testpath in /opt/app-root/lib/python3.6/site-packages (from nbconvert->notebook>=4.4.1->widgetsnbextension~=3.5.0->ipywidgets==7.6.2->-r requirements.txt (line 1)) (0.4.4)\n",
      "Requirement already satisfied: bleach in /opt/app-root/lib/python3.6/site-packages (from nbconvert->notebook>=4.4.1->widgetsnbextension~=3.5.0->ipywidgets==7.6.2->-r requirements.txt (line 1)) (3.2.1)\n",
      "Requirement already satisfied: MarkupSafe>=0.23 in /opt/app-root/lib/python3.6/site-packages (from jinja2->notebook>=4.4.1->widgetsnbextension~=3.5.0->ipywidgets==7.6.2->-r requirements.txt (line 1)) (1.1.1)\n",
      "Requirement already satisfied: pycparser in /opt/app-root/lib/python3.6/site-packages (from cffi>=1.0.0->argon2-cffi->notebook>=4.4.1->widgetsnbextension~=3.5.0->ipywidgets==7.6.2->-r requirements.txt (line 1)) (2.20)\n",
      "Requirement already satisfied: webencodings in /opt/app-root/lib/python3.6/site-packages (from bleach->nbconvert->notebook>=4.4.1->widgetsnbextension~=3.5.0->ipywidgets==7.6.2->-r requirements.txt (line 1)) (0.5.1)\n",
      "Requirement already satisfied: packaging in /opt/app-root/lib/python3.6/site-packages (from bleach->nbconvert->notebook>=4.4.1->widgetsnbextension~=3.5.0->ipywidgets==7.6.2->-r requirements.txt (line 1)) (20.4)\n",
      "Installing collected packages: jupyterlab-widgets, widgetsnbextension, ipywidgets, kiwisolver, cycler, numpy, matplotlib, pandas, profilehooks, joblib, scipy, scikit-learn, torch, pillow, torchvision\n",
      "Successfully installed cycler-0.10.0 ipywidgets-7.6.2 joblib-1.0.1 jupyterlab-widgets-1.0.0 kiwisolver-1.3.1 matplotlib-3.0.0 numpy-1.19.5 pandas-0.23.1 pillow-8.1.0 profilehooks-1.11.2 scikit-learn-0.22 scipy-1.5.4 torch-1.7.1 torchvision-0.8.2 widgetsnbextension-3.5.1\n",
      "\u001b[33mWARNING: You are using pip version 20.2.4; however, version 21.0.1 is available.\n",
      "You should consider upgrading via the '/opt/app-root/bin/python3.6 -m pip install --upgrade pip' command.\u001b[0m\n"
     ]
    }
   ],
   "source": [
    "!pip install -r requirements.txt"
   ]
  },
  {
   "cell_type": "code",
   "execution_count": 7,
   "metadata": {},
   "outputs": [
    {
     "name": "stdout",
     "output_type": "stream",
     "text": [
      "The autoreload extension is already loaded. To reload it, use:\n",
      "  %reload_ext autoreload\n"
     ]
    }
   ],
   "source": [
    "%load_ext autoreload\n",
    "%autoreload 2\n",
    "%matplotlib inline"
   ]
  },
  {
   "cell_type": "code",
   "execution_count": 8,
   "metadata": {},
   "outputs": [],
   "source": [
    "import s3fs\n",
    "import boto3\n",
    "from boto3 import session\n",
    "\n",
    "import pandas as pd\n",
    "import numpy as np\n",
    "import matplotlib"
   ]
  },
  {
   "cell_type": "code",
   "execution_count": 4,
   "metadata": {},
   "outputs": [
    {
     "name": "stdout",
     "output_type": "stream",
     "text": [
      "11\n"
     ]
    }
   ],
   "source": [
    "#dset = pd.read_csv('s3://{bucket_name}/{path_to_file}')\n",
    "dset = pd.read_csv('s3://rhods-pilot/titanicData')"
   ]
  },
  {
   "cell_type": "code",
   "execution_count": null,
   "metadata": {},
   "outputs": [],
   "source": []
  }
 ],
 "metadata": {
  "kernelspec": {
   "display_name": "Python 3",
   "language": "python",
   "name": "python3"
  },
  "language_info": {
   "codemirror_mode": {
    "name": "ipython",
    "version": 3
   },
   "file_extension": ".py",
   "mimetype": "text/x-python",
   "name": "python",
   "nbconvert_exporter": "python",
   "pygments_lexer": "ipython3",
   "version": "3.6.8"
  }
 },
 "nbformat": 4,
 "nbformat_minor": 4
}
